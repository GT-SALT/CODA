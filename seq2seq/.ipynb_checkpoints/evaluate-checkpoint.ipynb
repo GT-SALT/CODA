{
 "cells": [
  {
   "cell_type": "code",
   "execution_count": 1,
   "metadata": {},
   "outputs": [],
   "source": [
    "from rouge import Rouge, FilesRouge"
   ]
  },
  {
   "cell_type": "code",
   "execution_count": 2,
   "metadata": {},
   "outputs": [],
   "source": [
    "import pandas as pd"
   ]
  },
  {
   "cell_type": "code",
   "execution_count": 331,
   "metadata": {},
   "outputs": [
    {
     "name": "stdout",
     "output_type": "stream",
     "text": [
      "Test {'rouge-1': {'r': 0.410860168417579, 'p': 0.47811214472700186, 'f': 0.4241316061207024}, 'rouge-2': {'r': 0.17639043875876695, 'p': 0.2050187384439276, 'f': 0.1793910371600219}, 'rouge-l': {'r': 0.3816214644630829, 'p': 0.44449641746545815, 'f': 0.3940745580448198}}\n"
     ]
    }
   ],
   "source": [
    "hyp_path = './tmp/tst-summarization-randomutterance2/iter-8/test_generations.txt'\n",
    "ref_path = './data/test.csv'\n",
    "hypothesis = []\n",
    "with open(hyp_path, 'r') as f:\n",
    "    lines = f.readlines()\n",
    "    for l in lines:\n",
    "        hypothesis.append(l[:-1])\n",
    "        \n",
    "        \n",
    "reference = []\n",
    "test_data = pd.read_csv(ref_path)\n",
    "reference = [u for u in test_data['summary']]\n",
    "rouge = Rouge()\n",
    "print('Test', rouge.get_scores(hypothesis, reference, avg = True))"
   ]
  },
  {
   "cell_type": "code",
   "execution_count": 352,
   "metadata": {},
   "outputs": [
    {
     "name": "stdout",
     "output_type": "stream",
     "text": [
      "Test {'rouge-1': {'r': 0.41266525139299903, 'p': 0.5005411364091072, 'f': 0.4342856189640241}, 'rouge-2': {'r': 0.17692828903144153, 'p': 0.21526249008940496, 'f': 0.1830102102929322}, 'rouge-l': {'r': 0.38263695475141707, 'p': 0.46384657777996524, 'f': 0.40240140582366}}\n"
     ]
    }
   ],
   "source": [
    "hyp_path = './tmp/tst-summarization-randomutterance2/iter-1/test_generations.txt'\n",
    "ref_path = './data/test.csv'\n",
    "hypothesis = []\n",
    "with open(hyp_path, 'r') as f:\n",
    "    lines = f.readlines()\n",
    "    for l in lines:\n",
    "        hypothesis.append(l[:-1])\n",
    "        \n",
    "        \n",
    "reference = []\n",
    "test_data = pd.read_csv(ref_path)\n",
    "reference = [u for u in test_data['summary']]\n",
    "rouge = Rouge()\n",
    "print('Test', rouge.get_scores(hypothesis, reference, avg = True))"
   ]
  },
  {
   "cell_type": "code",
   "execution_count": 341,
   "metadata": {},
   "outputs": [
    {
     "ename": "FileNotFoundError",
     "evalue": "[Errno 2] No such file or directory: './tmp/tst-summarization-bartutterance2/iter-9/test_generations.txt'",
     "output_type": "error",
     "traceback": [
      "\u001b[0;31m---------------------------------------------------------------------------\u001b[0m",
      "\u001b[0;31mFileNotFoundError\u001b[0m                         Traceback (most recent call last)",
      "\u001b[0;32m<ipython-input-341-93a0a91d4992>\u001b[0m in \u001b[0;36m<module>\u001b[0;34m\u001b[0m\n\u001b[1;32m      2\u001b[0m \u001b[0mref_path\u001b[0m \u001b[0;34m=\u001b[0m \u001b[0;34m'./data/test.csv'\u001b[0m\u001b[0;34m\u001b[0m\u001b[0;34m\u001b[0m\u001b[0m\n\u001b[1;32m      3\u001b[0m \u001b[0mhypothesis\u001b[0m \u001b[0;34m=\u001b[0m \u001b[0;34m[\u001b[0m\u001b[0;34m]\u001b[0m\u001b[0;34m\u001b[0m\u001b[0;34m\u001b[0m\u001b[0m\n\u001b[0;32m----> 4\u001b[0;31m \u001b[0;32mwith\u001b[0m \u001b[0mopen\u001b[0m\u001b[0;34m(\u001b[0m\u001b[0mhyp_path\u001b[0m\u001b[0;34m,\u001b[0m \u001b[0;34m'r'\u001b[0m\u001b[0;34m)\u001b[0m \u001b[0;32mas\u001b[0m \u001b[0mf\u001b[0m\u001b[0;34m:\u001b[0m\u001b[0;34m\u001b[0m\u001b[0;34m\u001b[0m\u001b[0m\n\u001b[0m\u001b[1;32m      5\u001b[0m     \u001b[0mlines\u001b[0m \u001b[0;34m=\u001b[0m \u001b[0mf\u001b[0m\u001b[0;34m.\u001b[0m\u001b[0mreadlines\u001b[0m\u001b[0;34m(\u001b[0m\u001b[0;34m)\u001b[0m\u001b[0;34m\u001b[0m\u001b[0;34m\u001b[0m\u001b[0m\n\u001b[1;32m      6\u001b[0m     \u001b[0;32mfor\u001b[0m \u001b[0ml\u001b[0m \u001b[0;32min\u001b[0m \u001b[0mlines\u001b[0m\u001b[0;34m:\u001b[0m\u001b[0;34m\u001b[0m\u001b[0;34m\u001b[0m\u001b[0m\n",
      "\u001b[0;31mFileNotFoundError\u001b[0m: [Errno 2] No such file or directory: './tmp/tst-summarization-bartutterance2/iter-9/test_generations.txt'"
     ]
    }
   ],
   "source": [
    "hyp_path = './tmp/tst-summarization-bartutterance2/iter-9/test_generations.txt'\n",
    "ref_path = './data/test.csv'\n",
    "hypothesis = []\n",
    "with open(hyp_path, 'r') as f:\n",
    "    lines = f.readlines()\n",
    "    for l in lines:\n",
    "        hypothesis.append(l[:-1])\n",
    "        \n",
    "        \n",
    "reference = []\n",
    "test_data = pd.read_csv(ref_path)\n",
    "reference = [u for u in test_data['summary']]\n",
    "rouge = Rouge()\n",
    "print('Test', rouge.get_scores(hypothesis, reference, avg = True))"
   ]
  },
  {
   "cell_type": "code",
   "execution_count": 243,
   "metadata": {},
   "outputs": [
    {
     "name": "stdout",
     "output_type": "stream",
     "text": [
      "Test {'rouge-1': {'r': 0.4270636881526224, 'p': 0.4940688709918377, 'f': 0.43886670011121504}, 'rouge-2': {'r': 0.18465489046829084, 'p': 0.2156558015656211, 'f': 0.1878532011904225}, 'rouge-l': {'r': 0.39505366518454216, 'p': 0.45773747583905056, 'f': 0.40611088307119675}}\n"
     ]
    }
   ],
   "source": [
    "hyp_path = './tmp/tst-summarization-tokencutoff-0.1-0.25/iter-5/test_generations.txt'\n",
    "ref_path = './data/test.csv'\n",
    "hypothesis = []\n",
    "with open(hyp_path, 'r') as f:\n",
    "    lines = f.readlines()\n",
    "    for l in lines:\n",
    "        hypothesis.append(l[:-1])\n",
    "reference = []\n",
    "test_data = pd.read_csv(ref_path)\n",
    "reference = [u for u in test_data['summary']]\n",
    "rouge = Rouge()\n",
    "print('Test', rouge.get_scores(hypothesis, reference, avg = True))"
   ]
  },
  {
   "cell_type": "code",
   "execution_count": 170,
   "metadata": {},
   "outputs": [
    {
     "name": "stdout",
     "output_type": "stream",
     "text": [
      "Test {'rouge-1': {'r': 0.4270636881526224, 'p': 0.4940688709918377, 'f': 0.43886670011121504}, 'rouge-2': {'r': 0.18465489046829084, 'p': 0.2156558015656211, 'f': 0.1878532011904225}, 'rouge-l': {'r': 0.39505366518454216, 'p': 0.45773747583905056, 'f': 0.40611088307119675}}\n"
     ]
    }
   ],
   "source": [
    "hyp_path = './tmp/tst-summarization-tokencutoff/iter-5/test_generations.txt'\n",
    "ref_path = './data/test.csv'\n",
    "hypothesis = []\n",
    "with open(hyp_path, 'r') as f:\n",
    "    lines = f.readlines()\n",
    "    for l in lines:\n",
    "        hypothesis.append(l[:-1])\n",
    "reference = []\n",
    "test_data = pd.read_csv(ref_path)\n",
    "reference = [u for u in test_data['summary']]\n",
    "rouge = Rouge()\n",
    "print('Test', rouge.get_scores(hypothesis, reference, avg = True))"
   ]
  },
  {
   "cell_type": "code",
   "execution_count": 117,
   "metadata": {},
   "outputs": [
    {
     "name": "stdout",
     "output_type": "stream",
     "text": [
      "Test {'rouge-1': {'r': 0.4135897203236957, 'p': 0.4919951499843936, 'f': 0.4320537508927876}, 'rouge-2': {'r': 0.17559642535600423, 'p': 0.2156384371537216, 'f': 0.1832475248359979}, 'rouge-l': {'r': 0.3858962181388669, 'p': 0.45995193957005565, 'f': 0.40327537332162394}}\n"
     ]
    }
   ],
   "source": [
    "hyp_path = './tmp/tst-summarization-spancutoff/iter-3/test_generations.txt'\n",
    "ref_path = './data/test.csv'\n",
    "hypothesis = []\n",
    "with open(hyp_path, 'r') as f:\n",
    "    lines = f.readlines()\n",
    "    for l in lines:\n",
    "        hypothesis.append(l[:-1])\n",
    "reference = []\n",
    "test_data = pd.read_csv(ref_path)\n",
    "reference = [u for u in test_data['summary']]\n",
    "rouge = Rouge()\n",
    "print('Test', rouge.get_scores(hypothesis, reference, avg = True))"
   ]
  },
  {
   "cell_type": "code",
   "execution_count": 1,
   "metadata": {},
   "outputs": [],
   "source": [
    "hyp_path = './tmp/tst-summarization-randomutterance/iter0/test_generations.txt'\n",
    "ref_path = './data/test.csv'\n",
    "hypothesis = []\n",
    "with open(hyp_path, 'r') as f:\n",
    "    lines = f.readlines()\n",
    "    for l in lines:\n",
    "        hypothesis.append(l[:-1])"
   ]
  },
  {
   "cell_type": "code",
   "execution_count": null,
   "metadata": {},
   "outputs": [],
   "source": []
  },
  {
   "cell_type": "code",
   "execution_count": 107,
   "metadata": {},
   "outputs": [
    {
     "name": "stdout",
     "output_type": "stream",
     "text": [
      "Test {'rouge-1': {'r': 0.3348966873290171, 'p': 0.5128169743646661, 'f': 0.38661714145795917}, 'rouge-2': {'r': 0.13410988622338163, 'p': 0.22286599100687418, 'f': 0.15723622517753177}, 'rouge-l': {'r': 0.30874798649050084, 'p': 0.47428671619376406, 'f': 0.35677624934291063}}\n"
     ]
    }
   ],
   "source": [
    "hyp_path = './tmp/tst-summarization-baseline/joint-iter-3/test_generations.txt'\n",
    "ref_path = './data/test.csv'\n",
    "hypothesis = []\n",
    "with open(hyp_path, 'r') as f:\n",
    "    lines = f.readlines()\n",
    "    for l in lines:\n",
    "        hypothesis.append(l[:-1])\n",
    "        \n",
    "        \n",
    "reference = []\n",
    "test_data = pd.read_csv(ref_path)\n",
    "reference = [u for u in test_data['summary']]\n",
    "rouge = Rouge()\n",
    "print('Test', rouge.get_scores(hypothesis, reference, avg = True))"
   ]
  },
  {
   "cell_type": "code",
   "execution_count": 2,
   "metadata": {},
   "outputs": [],
   "source": [
    "hyp_path = './tmp/tst-summarization-full/test_generations.txt'\n",
    "ref_path = './data/test.csv'\n",
    "hypothesis = []\n",
    "with open(hyp_path, 'r') as f:\n",
    "    lines = f.readlines()\n",
    "    for l in lines:\n",
    "        hypothesis.append(l[:-1])"
   ]
  },
  {
   "cell_type": "code",
   "execution_count": null,
   "metadata": {},
   "outputs": [],
   "source": []
  },
  {
   "cell_type": "code",
   "execution_count": 122,
   "metadata": {},
   "outputs": [],
   "source": [
    "hyp_path = './tmp/tst-summarization-randomutterance/iter3/test_generations.txt'\n",
    "ref_path = './data/test.csv'\n",
    "hypothesis = []\n",
    "with open(hyp_path, 'r') as f:\n",
    "    lines = f.readlines()\n",
    "    for l in lines:\n",
    "        hypothesis.append(l[:-1])"
   ]
  },
  {
   "cell_type": "code",
   "execution_count": 4,
   "metadata": {},
   "outputs": [],
   "source": [
    "reference = []\n",
    "test_data = pd.read_csv(ref_path)\n",
    "reference = [u for u in test_data['summary']]"
   ]
  },
  {
   "cell_type": "code",
   "execution_count": 6,
   "metadata": {},
   "outputs": [
    {
     "ename": "AssertionError",
     "evalue": "",
     "output_type": "error",
     "traceback": [
      "\u001b[0;31m---------------------------------------------------------------------------\u001b[0m",
      "\u001b[0;31mAssertionError\u001b[0m                            Traceback (most recent call last)",
      "\u001b[0;32m<ipython-input-6-0b7ba0001e77>\u001b[0m in \u001b[0;36m<module>\u001b[0;34m\u001b[0m\n\u001b[1;32m      1\u001b[0m \u001b[0mrouge\u001b[0m \u001b[0;34m=\u001b[0m \u001b[0mRouge\u001b[0m\u001b[0;34m(\u001b[0m\u001b[0;34m)\u001b[0m\u001b[0;34m\u001b[0m\u001b[0;34m\u001b[0m\u001b[0m\n\u001b[0;32m----> 2\u001b[0;31m \u001b[0mprint\u001b[0m\u001b[0;34m(\u001b[0m\u001b[0;34m'Test'\u001b[0m\u001b[0;34m,\u001b[0m \u001b[0mrouge\u001b[0m\u001b[0;34m.\u001b[0m\u001b[0mget_scores\u001b[0m\u001b[0;34m(\u001b[0m\u001b[0mhypothesis\u001b[0m\u001b[0;34m,\u001b[0m \u001b[0mreference\u001b[0m\u001b[0;34m,\u001b[0m \u001b[0mavg\u001b[0m \u001b[0;34m=\u001b[0m \u001b[0;32mTrue\u001b[0m\u001b[0;34m)\u001b[0m\u001b[0;34m)\u001b[0m\u001b[0;34m\u001b[0m\u001b[0;34m\u001b[0m\u001b[0m\n\u001b[0m",
      "\u001b[0;32m~/anaconda3/lib/python3.8/site-packages/rouge/rouge.py\u001b[0m in \u001b[0;36mget_scores\u001b[0;34m(self, hyps, refs, avg, ignore_empty)\u001b[0m\n\u001b[1;32m     99\u001b[0m \u001b[0;34m\u001b[0m\u001b[0m\n\u001b[1;32m    100\u001b[0m         \u001b[0;32massert\u001b[0m\u001b[0;34m(\u001b[0m\u001b[0misinstance\u001b[0m\u001b[0;34m(\u001b[0m\u001b[0mhyps\u001b[0m\u001b[0;34m,\u001b[0m \u001b[0mtype\u001b[0m\u001b[0;34m(\u001b[0m\u001b[0mrefs\u001b[0m\u001b[0;34m)\u001b[0m\u001b[0;34m)\u001b[0m\u001b[0;34m)\u001b[0m\u001b[0;34m\u001b[0m\u001b[0;34m\u001b[0m\u001b[0m\n\u001b[0;32m--> 101\u001b[0;31m         \u001b[0;32massert\u001b[0m\u001b[0;34m(\u001b[0m\u001b[0mlen\u001b[0m\u001b[0;34m(\u001b[0m\u001b[0mhyps\u001b[0m\u001b[0;34m)\u001b[0m \u001b[0;34m==\u001b[0m \u001b[0mlen\u001b[0m\u001b[0;34m(\u001b[0m\u001b[0mrefs\u001b[0m\u001b[0;34m)\u001b[0m\u001b[0;34m)\u001b[0m\u001b[0;34m\u001b[0m\u001b[0;34m\u001b[0m\u001b[0m\n\u001b[0m\u001b[1;32m    102\u001b[0m \u001b[0;34m\u001b[0m\u001b[0m\n\u001b[1;32m    103\u001b[0m         \u001b[0;32mif\u001b[0m \u001b[0;32mnot\u001b[0m \u001b[0mavg\u001b[0m\u001b[0;34m:\u001b[0m\u001b[0;34m\u001b[0m\u001b[0;34m\u001b[0m\u001b[0m\n",
      "\u001b[0;31mAssertionError\u001b[0m: "
     ]
    }
   ],
   "source": [
    "rouge = Rouge()\n",
    "print('Test', rouge.get_scores(hypothesis, reference, avg = True))"
   ]
  },
  {
   "cell_type": "code",
   "execution_count": 147,
   "metadata": {},
   "outputs": [
    {
     "name": "stdout",
     "output_type": "stream",
     "text": [
      "Test {'rouge-1': {'r': 0.4214905507660763, 'p': 0.4932766290459723, 'f': 0.43782837777215133}, 'rouge-2': {'r': 0.1811183105337388, 'p': 0.214532275996739, 'f': 0.18598437046097177}, 'rouge-l': {'r': 0.39229385917976, 'p': 0.4591016454742561, 'f': 0.4073681114937807}}\n"
     ]
    }
   ],
   "source": [
    "rouge = Rouge()\n",
    "print('Test', rouge.get_scores(hypothesis, reference, avg = True))"
   ]
  },
  {
   "cell_type": "code",
   "execution_count": 143,
   "metadata": {},
   "outputs": [
    {
     "name": "stdout",
     "output_type": "stream",
     "text": [
      "Test {'rouge-1': {'r': 0.38854968166037995, 'p': 0.5129880530126072, 'f': 0.4244952833103849}, 'rouge-2': {'r': 0.16785524811852714, 'p': 0.2270228858883125, 'f': 0.18188870861132803}, 'rouge-l': {'r': 0.35897708668076767, 'p': 0.4740695631599001, 'f': 0.3921148137352863}}\n"
     ]
    }
   ],
   "source": [
    "rouge = Rouge()\n",
    "print('Test', rouge.get_scores(hypothesis, reference, avg = True))"
   ]
  },
  {
   "cell_type": "code",
   "execution_count": null,
   "metadata": {},
   "outputs": [],
   "source": []
  },
  {
   "cell_type": "code",
   "execution_count": 85,
   "metadata": {
    "scrolled": true
   },
   "outputs": [
    {
     "name": "stdout",
     "output_type": "stream",
     "text": [
      "Collecting bert-score\n",
      "  Downloading bert_score-0.3.8-py3-none-any.whl (58 kB)\n",
      "\u001b[K     |████████████████████████████████| 58 kB 5.0 MB/s eta 0:00:011\n",
      "\u001b[?25hRequirement already satisfied: torch>=1.0.0 in /anaconda/envs/py37_default/lib/python3.7/site-packages (from bert-score) (1.8.1)\n",
      "Collecting transformers>=3.0.0\n",
      "  Downloading transformers-4.4.2-py3-none-any.whl (2.0 MB)\n",
      "\u001b[K     |████████████████████████████████| 2.0 MB 15.0 MB/s eta 0:00:01\n",
      "\u001b[?25hRequirement already satisfied: requests in /anaconda/envs/py37_default/lib/python3.7/site-packages (from bert-score) (2.24.0)\n",
      "Requirement already satisfied: pandas>=1.0.1 in /anaconda/envs/py37_default/lib/python3.7/site-packages (from bert-score) (1.1.3)\n",
      "Requirement already satisfied: tqdm>=4.31.1 in /anaconda/envs/py37_default/lib/python3.7/site-packages (from bert-score) (4.49.0)\n",
      "Requirement already satisfied: matplotlib in /anaconda/envs/py37_default/lib/python3.7/site-packages (from bert-score) (3.3.2)\n",
      "Requirement already satisfied: numpy in /anaconda/envs/py37_default/lib/python3.7/site-packages (from bert-score) (1.19.2)\n",
      "Requirement already satisfied: typing-extensions in /anaconda/envs/py37_default/lib/python3.7/site-packages (from torch>=1.0.0->bert-score) (3.7.4.3)\n",
      "Collecting tokenizers<0.11,>=0.10.1\n",
      "  Using cached tokenizers-0.10.1-cp37-cp37m-manylinux2010_x86_64.whl (3.2 MB)\n",
      "Requirement already satisfied: packaging in /anaconda/envs/py37_default/lib/python3.7/site-packages (from transformers>=3.0.0->bert-score) (20.4)\n",
      "Requirement already satisfied: importlib-metadata; python_version < \"3.8\" in /anaconda/envs/py37_default/lib/python3.7/site-packages (from transformers>=3.0.0->bert-score) (2.0.0)\n",
      "Requirement already satisfied: filelock in /anaconda/envs/py37_default/lib/python3.7/site-packages (from transformers>=3.0.0->bert-score) (3.0.12)\n",
      "Processing /home/jiaao/.cache/pip/wheels/8c/92/02/dad900eead4b4a0025d513fa79992095071af492c6188bd589/sacremoses-0.0.44-py3-none-any.whl\n",
      "Requirement already satisfied: regex!=2019.12.17 in /anaconda/envs/py37_default/lib/python3.7/site-packages (from transformers>=3.0.0->bert-score) (2020.10.28)\n",
      "Requirement already satisfied: urllib3!=1.25.0,!=1.25.1,<1.26,>=1.21.1 in /anaconda/envs/py37_default/lib/python3.7/site-packages (from requests->bert-score) (1.25.11)\n",
      "Requirement already satisfied: certifi>=2017.4.17 in /anaconda/envs/py37_default/lib/python3.7/site-packages (from requests->bert-score) (2020.6.20)\n",
      "Requirement already satisfied: idna<3,>=2.5 in /anaconda/envs/py37_default/lib/python3.7/site-packages (from requests->bert-score) (2.10)\n",
      "Requirement already satisfied: chardet<4,>=3.0.2 in /anaconda/envs/py37_default/lib/python3.7/site-packages (from requests->bert-score) (3.0.4)\n",
      "Requirement already satisfied: pytz>=2017.2 in /anaconda/envs/py37_default/lib/python3.7/site-packages (from pandas>=1.0.1->bert-score) (2020.1)\n",
      "Requirement already satisfied: python-dateutil>=2.7.3 in /anaconda/envs/py37_default/lib/python3.7/site-packages (from pandas>=1.0.1->bert-score) (2.8.1)\n",
      "Requirement already satisfied: pyparsing!=2.0.4,!=2.1.2,!=2.1.6,>=2.0.3 in /anaconda/envs/py37_default/lib/python3.7/site-packages (from matplotlib->bert-score) (2.4.7)\n",
      "Requirement already satisfied: kiwisolver>=1.0.1 in /anaconda/envs/py37_default/lib/python3.7/site-packages (from matplotlib->bert-score) (1.3.0)\n",
      "Requirement already satisfied: pillow>=6.2.0 in /anaconda/envs/py37_default/lib/python3.7/site-packages (from matplotlib->bert-score) (8.0.1)\n",
      "Requirement already satisfied: cycler>=0.10 in /anaconda/envs/py37_default/lib/python3.7/site-packages (from matplotlib->bert-score) (0.10.0)\n",
      "Requirement already satisfied: six in /anaconda/envs/py37_default/lib/python3.7/site-packages (from packaging->transformers>=3.0.0->bert-score) (1.15.0)\n",
      "Requirement already satisfied: zipp>=0.5 in /anaconda/envs/py37_default/lib/python3.7/site-packages (from importlib-metadata; python_version < \"3.8\"->transformers>=3.0.0->bert-score) (3.4.0)\n",
      "Requirement already satisfied: joblib in /anaconda/envs/py37_default/lib/python3.7/site-packages (from sacremoses->transformers>=3.0.0->bert-score) (0.17.0)\n",
      "Requirement already satisfied: click in /anaconda/envs/py37_default/lib/python3.7/site-packages (from sacremoses->transformers>=3.0.0->bert-score) (7.1.2)\n",
      "Installing collected packages: tokenizers, sacremoses, transformers, bert-score\n",
      "Successfully installed bert-score-0.3.8 sacremoses-0.0.44 tokenizers-0.10.1 transformers-4.4.2\n"
     ]
    }
   ],
   "source": [
    "!pip install bert-score"
   ]
  },
  {
   "cell_type": "code",
   "execution_count": null,
   "metadata": {},
   "outputs": [],
   "source": []
  },
  {
   "cell_type": "code",
   "execution_count": null,
   "metadata": {},
   "outputs": [],
   "source": []
  },
  {
   "cell_type": "code",
   "execution_count": 47,
   "metadata": {},
   "outputs": [
    {
     "name": "stdout",
     "output_type": "stream",
     "text": [
      "Test {'rouge-1': {'r': 0.46379870785278154, 'p': 0.5673483046974915, 'f': 0.48945090438362154}, 'rouge-2': {'r': 0.22810265260438894, 'p': 0.28581903855748353, 'f': 0.2402344619584366}, 'rouge-l': {'r': 0.43025017713405406, 'p': 0.5260424830234058, 'f': 0.4537412271417479}}\n"
     ]
    }
   ],
   "source": [
    "rouge = Rouge()\n",
    "print('Test', rouge.get_scores(hypothesis, reference, avg = True))"
   ]
  },
  {
   "cell_type": "code",
   "execution_count": null,
   "metadata": {},
   "outputs": [],
   "source": []
  },
  {
   "cell_type": "code",
   "execution_count": 61,
   "metadata": {},
   "outputs": [],
   "source": [
    "hyp_path = './tmp/tst-summarization-baseline/iter1_predict/test_generations.txt'\n",
    "hypothesis = []\n",
    "with open(hyp_path, 'r') as f:\n",
    "    lines = f.readlines()\n",
    "    for l in lines:\n",
    "        hypothesis.append(l[:-1])"
   ]
  },
  {
   "cell_type": "code",
   "execution_count": 62,
   "metadata": {},
   "outputs": [
    {
     "data": {
      "text/plain": [
       "\"Laura is happy to celebrate Tom's birthday.\""
      ]
     },
     "execution_count": 62,
     "metadata": {},
     "output_type": "execute_result"
    }
   ],
   "source": [
    "hypothesis[0]"
   ]
  },
  {
   "cell_type": "code",
   "execution_count": 27,
   "metadata": {},
   "outputs": [],
   "source": [
    "ref_path = './data/ulbl_raw.csv'\n",
    "reference = []\n",
    "test_data = pd.read_csv(ref_path)\n",
    "conv = [u for u in test_data['text']]\n",
    "sum_ = [u for u in test_data['summary']]"
   ]
  },
  {
   "cell_type": "code",
   "execution_count": 28,
   "metadata": {},
   "outputs": [
    {
     "data": {
      "text/plain": [
       "\"Tom: Happy B-day!  </s><s> Tom: <file_gif> </s><s> Laura: oh, thank you, it's so cute <3 <3 <3  </s><s> Tom: :D\""
      ]
     },
     "execution_count": 28,
     "metadata": {},
     "output_type": "execute_result"
    }
   ],
   "source": [
    "conv[0]"
   ]
  },
  {
   "cell_type": "code",
   "execution_count": 29,
   "metadata": {},
   "outputs": [
    {
     "data": {
      "text/plain": [
       "'Tom wishes Laura happy brithday.'"
      ]
     },
     "execution_count": 29,
     "metadata": {},
     "output_type": "execute_result"
    }
   ],
   "source": [
    "sum_[0]"
   ]
  },
  {
   "cell_type": "code",
   "execution_count": 123,
   "metadata": {
    "scrolled": true
   },
   "outputs": [
    {
     "name": "stdout",
     "output_type": "stream",
     "text": [
      "Collecting git+https://github.com/Tiiiger/bert_score\n",
      "  Cloning https://github.com/Tiiiger/bert_score to /tmp/pip-req-build-wwf0u9e6\n",
      "Requirement already satisfied (use --upgrade to upgrade): bert-score==0.3.8 from git+https://github.com/Tiiiger/bert_score in /anaconda/envs/py37_default/lib/python3.7/site-packages\n",
      "Requirement already satisfied: torch>=1.0.0 in /anaconda/envs/py37_default/lib/python3.7/site-packages (from bert-score==0.3.8) (1.8.1)\n",
      "Requirement already satisfied: numpy in /anaconda/envs/py37_default/lib/python3.7/site-packages (from bert-score==0.3.8) (1.19.2)\n",
      "Requirement already satisfied: pandas>=1.0.1 in /anaconda/envs/py37_default/lib/python3.7/site-packages (from bert-score==0.3.8) (1.1.3)\n",
      "Requirement already satisfied: requests in /anaconda/envs/py37_default/lib/python3.7/site-packages (from bert-score==0.3.8) (2.24.0)\n",
      "Requirement already satisfied: tqdm>=4.31.1 in /anaconda/envs/py37_default/lib/python3.7/site-packages (from bert-score==0.3.8) (4.49.0)\n",
      "Requirement already satisfied: matplotlib in /anaconda/envs/py37_default/lib/python3.7/site-packages (from bert-score==0.3.8) (3.3.2)\n",
      "Requirement already satisfied: transformers>=3.0.0 in /anaconda/envs/py37_default/lib/python3.7/site-packages (from bert-score==0.3.8) (4.4.2)\n",
      "Requirement already satisfied: typing-extensions in /anaconda/envs/py37_default/lib/python3.7/site-packages (from torch>=1.0.0->bert-score==0.3.8) (3.7.4.3)\n",
      "Requirement already satisfied: pytz>=2017.2 in /anaconda/envs/py37_default/lib/python3.7/site-packages (from pandas>=1.0.1->bert-score==0.3.8) (2020.1)\n",
      "Requirement already satisfied: python-dateutil>=2.7.3 in /anaconda/envs/py37_default/lib/python3.7/site-packages (from pandas>=1.0.1->bert-score==0.3.8) (2.8.1)\n",
      "Requirement already satisfied: urllib3!=1.25.0,!=1.25.1,<1.26,>=1.21.1 in /anaconda/envs/py37_default/lib/python3.7/site-packages (from requests->bert-score==0.3.8) (1.25.11)\n",
      "Requirement already satisfied: idna<3,>=2.5 in /anaconda/envs/py37_default/lib/python3.7/site-packages (from requests->bert-score==0.3.8) (2.10)\n",
      "Requirement already satisfied: certifi>=2017.4.17 in /anaconda/envs/py37_default/lib/python3.7/site-packages (from requests->bert-score==0.3.8) (2020.6.20)\n",
      "Requirement already satisfied: chardet<4,>=3.0.2 in /anaconda/envs/py37_default/lib/python3.7/site-packages (from requests->bert-score==0.3.8) (3.0.4)\n",
      "Requirement already satisfied: kiwisolver>=1.0.1 in /anaconda/envs/py37_default/lib/python3.7/site-packages (from matplotlib->bert-score==0.3.8) (1.3.0)\n",
      "Requirement already satisfied: pyparsing!=2.0.4,!=2.1.2,!=2.1.6,>=2.0.3 in /anaconda/envs/py37_default/lib/python3.7/site-packages (from matplotlib->bert-score==0.3.8) (2.4.7)\n",
      "Requirement already satisfied: pillow>=6.2.0 in /anaconda/envs/py37_default/lib/python3.7/site-packages (from matplotlib->bert-score==0.3.8) (8.0.1)\n",
      "Requirement already satisfied: cycler>=0.10 in /anaconda/envs/py37_default/lib/python3.7/site-packages (from matplotlib->bert-score==0.3.8) (0.10.0)\n",
      "Requirement already satisfied: filelock in /anaconda/envs/py37_default/lib/python3.7/site-packages (from transformers>=3.0.0->bert-score==0.3.8) (3.0.12)\n",
      "Requirement already satisfied: regex!=2019.12.17 in /anaconda/envs/py37_default/lib/python3.7/site-packages (from transformers>=3.0.0->bert-score==0.3.8) (2020.10.28)\n",
      "Requirement already satisfied: sacremoses in /anaconda/envs/py37_default/lib/python3.7/site-packages (from transformers>=3.0.0->bert-score==0.3.8) (0.0.44)\n",
      "Requirement already satisfied: tokenizers<0.11,>=0.10.1 in /anaconda/envs/py37_default/lib/python3.7/site-packages (from transformers>=3.0.0->bert-score==0.3.8) (0.10.1)\n",
      "Requirement already satisfied: importlib-metadata; python_version < \"3.8\" in /anaconda/envs/py37_default/lib/python3.7/site-packages (from transformers>=3.0.0->bert-score==0.3.8) (2.0.0)\n",
      "Requirement already satisfied: packaging in /anaconda/envs/py37_default/lib/python3.7/site-packages (from transformers>=3.0.0->bert-score==0.3.8) (20.4)\n",
      "Requirement already satisfied: six>=1.5 in /anaconda/envs/py37_default/lib/python3.7/site-packages (from python-dateutil>=2.7.3->pandas>=1.0.1->bert-score==0.3.8) (1.15.0)\n",
      "Requirement already satisfied: click in /anaconda/envs/py37_default/lib/python3.7/site-packages (from sacremoses->transformers>=3.0.0->bert-score==0.3.8) (7.1.2)\n",
      "Requirement already satisfied: joblib in /anaconda/envs/py37_default/lib/python3.7/site-packages (from sacremoses->transformers>=3.0.0->bert-score==0.3.8) (0.17.0)\n",
      "Requirement already satisfied: zipp>=0.5 in /anaconda/envs/py37_default/lib/python3.7/site-packages (from importlib-metadata; python_version < \"3.8\"->transformers>=3.0.0->bert-score==0.3.8) (3.4.0)\n",
      "Building wheels for collected packages: bert-score\n",
      "  Building wheel for bert-score (setup.py) ... \u001b[?25ldone\n",
      "\u001b[?25h  Created wheel for bert-score: filename=bert_score-0.3.8-py3-none-any.whl size=58964 sha256=700d2986617aba551ed821ba99366c4b6e35ba9e87c5997caac48114c5281b01\n",
      "  Stored in directory: /tmp/pip-ephem-wheel-cache-owc428bu/wheels/14/b1/f2/908224271508d2ab483b7537445f2b05e7076c144fc25e0fb1\n",
      "Successfully built bert-score\n"
     ]
    }
   ],
   "source": [
    "!pip install git+https://github.com/Tiiiger/bert_score"
   ]
  },
  {
   "cell_type": "code",
   "execution_count": 34,
   "metadata": {},
   "outputs": [],
   "source": [
    "import bert_score"
   ]
  },
  {
   "cell_type": "code",
   "execution_count": 167,
   "metadata": {
    "scrolled": true
   },
   "outputs": [
    {
     "data": {
      "application/vnd.jupyter.widget-view+json": {
       "model_id": "31ff5e9d08bd4476a4aef8aa592c5986",
       "version_major": 2,
       "version_minor": 0
      },
      "text/plain": [
       "HBox(children=(FloatProgress(value=0.0, description='Downloading', max=1525.0, style=ProgressStyle(description…"
      ]
     },
     "metadata": {},
     "output_type": "display_data"
    },
    {
     "name": "stdout",
     "output_type": "stream",
     "text": [
      "\n"
     ]
    },
    {
     "data": {
      "application/vnd.jupyter.widget-view+json": {
       "model_id": "d34fca8799f04b67956eb60cdf406242",
       "version_major": 2,
       "version_minor": 0
      },
      "text/plain": [
       "HBox(children=(FloatProgress(value=0.0, description='Downloading', max=898822.0, style=ProgressStyle(descripti…"
      ]
     },
     "metadata": {},
     "output_type": "display_data"
    },
    {
     "name": "stdout",
     "output_type": "stream",
     "text": [
      "\n"
     ]
    },
    {
     "data": {
      "application/vnd.jupyter.widget-view+json": {
       "model_id": "d570baf6fa0742ec9eb0fad02800d555",
       "version_major": 2,
       "version_minor": 0
      },
      "text/plain": [
       "HBox(children=(FloatProgress(value=0.0, description='Downloading', max=456318.0, style=ProgressStyle(descripti…"
      ]
     },
     "metadata": {},
     "output_type": "display_data"
    },
    {
     "name": "stdout",
     "output_type": "stream",
     "text": [
      "\n"
     ]
    },
    {
     "data": {
      "application/vnd.jupyter.widget-view+json": {
       "model_id": "b89847ed798249ce884e603bd7ca051c",
       "version_major": 2,
       "version_minor": 0
      },
      "text/plain": [
       "HBox(children=(FloatProgress(value=0.0, description='Downloading', max=26.0, style=ProgressStyle(description_w…"
      ]
     },
     "metadata": {},
     "output_type": "display_data"
    },
    {
     "name": "stdout",
     "output_type": "stream",
     "text": [
      "\n"
     ]
    },
    {
     "data": {
      "application/vnd.jupyter.widget-view+json": {
       "model_id": "7cdd70699bec4a45b4431c50339499c8",
       "version_major": 2,
       "version_minor": 0
      },
      "text/plain": [
       "HBox(children=(FloatProgress(value=0.0, description='Downloading', max=1355863.0, style=ProgressStyle(descript…"
      ]
     },
     "metadata": {},
     "output_type": "display_data"
    },
    {
     "name": "stdout",
     "output_type": "stream",
     "text": [
      "\n"
     ]
    },
    {
     "data": {
      "application/vnd.jupyter.widget-view+json": {
       "model_id": "262a46fec0774034906f52c4b3fc0e68",
       "version_major": 2,
       "version_minor": 0
      },
      "text/plain": [
       "HBox(children=(FloatProgress(value=0.0, description='Downloading', max=1018571383.0, style=ProgressStyle(descr…"
      ]
     },
     "metadata": {},
     "output_type": "display_data"
    },
    {
     "name": "stdout",
     "output_type": "stream",
     "text": [
      "\n"
     ]
    },
    {
     "ename": "ValueError",
     "evalue": "Not supported",
     "output_type": "error",
     "traceback": [
      "\u001b[0;31m---------------------------------------------------------------------------\u001b[0m",
      "\u001b[0;31mValueError\u001b[0m                                Traceback (most recent call last)",
      "\u001b[0;32m<ipython-input-167-07641ff3c6e1>\u001b[0m in \u001b[0;36m<module>\u001b[0;34m\u001b[0m\n\u001b[0;32m----> 1\u001b[0;31m \u001b[0mscorer\u001b[0m \u001b[0;34m=\u001b[0m \u001b[0mBERTScorer\u001b[0m\u001b[0;34m(\u001b[0m\u001b[0mmodel_type\u001b[0m\u001b[0;34m=\u001b[0m\u001b[0;34m'facebook/bart-large'\u001b[0m\u001b[0;34m,\u001b[0m \u001b[0mrescale_with_baseline\u001b[0m\u001b[0;34m=\u001b[0m\u001b[0;32mFalse\u001b[0m\u001b[0;34m)\u001b[0m\u001b[0;34m\u001b[0m\u001b[0;34m\u001b[0m\u001b[0m\n\u001b[0m",
      "\u001b[0;32m/anaconda/envs/py37_default/lib/python3.7/site-packages/bert_score/scorer.py\u001b[0m in \u001b[0;36m__init__\u001b[0;34m(self, model_type, num_layers, batch_size, nthreads, all_layers, idf, idf_sents, device, lang, rescale_with_baseline, baseline_path)\u001b[0m\n\u001b[1;32m     99\u001b[0m \u001b[0;34m\u001b[0m\u001b[0m\n\u001b[1;32m    100\u001b[0m         \u001b[0mself\u001b[0m\u001b[0;34m.\u001b[0m\u001b[0m_tokenizer\u001b[0m \u001b[0;34m=\u001b[0m \u001b[0mget_tokenizer\u001b[0m\u001b[0;34m(\u001b[0m\u001b[0mself\u001b[0m\u001b[0;34m.\u001b[0m\u001b[0mmodel_type\u001b[0m\u001b[0;34m)\u001b[0m\u001b[0;34m\u001b[0m\u001b[0;34m\u001b[0m\u001b[0m\n\u001b[0;32m--> 101\u001b[0;31m         \u001b[0mself\u001b[0m\u001b[0;34m.\u001b[0m\u001b[0m_model\u001b[0m \u001b[0;34m=\u001b[0m \u001b[0mget_model\u001b[0m\u001b[0;34m(\u001b[0m\u001b[0mself\u001b[0m\u001b[0;34m.\u001b[0m\u001b[0mmodel_type\u001b[0m\u001b[0;34m,\u001b[0m \u001b[0mself\u001b[0m\u001b[0;34m.\u001b[0m\u001b[0mnum_layers\u001b[0m\u001b[0;34m,\u001b[0m \u001b[0mself\u001b[0m\u001b[0;34m.\u001b[0m\u001b[0mall_layers\u001b[0m\u001b[0;34m)\u001b[0m\u001b[0;34m\u001b[0m\u001b[0;34m\u001b[0m\u001b[0m\n\u001b[0m\u001b[1;32m    102\u001b[0m         \u001b[0mself\u001b[0m\u001b[0;34m.\u001b[0m\u001b[0m_model\u001b[0m\u001b[0;34m.\u001b[0m\u001b[0mto\u001b[0m\u001b[0;34m(\u001b[0m\u001b[0mself\u001b[0m\u001b[0;34m.\u001b[0m\u001b[0mdevice\u001b[0m\u001b[0;34m)\u001b[0m\u001b[0;34m\u001b[0m\u001b[0;34m\u001b[0m\u001b[0m\n\u001b[1;32m    103\u001b[0m \u001b[0;34m\u001b[0m\u001b[0m\n",
      "\u001b[0;32m/anaconda/envs/py37_default/lib/python3.7/site-packages/bert_score/utils.py\u001b[0m in \u001b[0;36mget_model\u001b[0;34m(model_type, num_layers, all_layers)\u001b[0m\n\u001b[1;32m    231\u001b[0m             \u001b[0mmodel\u001b[0m\u001b[0;34m.\u001b[0m\u001b[0mtransformer\u001b[0m\u001b[0;34m.\u001b[0m\u001b[0mlayer\u001b[0m \u001b[0;34m=\u001b[0m \u001b[0mtorch\u001b[0m\u001b[0;34m.\u001b[0m\u001b[0mnn\u001b[0m\u001b[0;34m.\u001b[0m\u001b[0mModuleList\u001b[0m\u001b[0;34m(\u001b[0m\u001b[0;34m[\u001b[0m\u001b[0mlayer\u001b[0m \u001b[0;32mfor\u001b[0m \u001b[0mlayer\u001b[0m \u001b[0;32min\u001b[0m \u001b[0mmodel\u001b[0m\u001b[0;34m.\u001b[0m\u001b[0mtransformer\u001b[0m\u001b[0;34m.\u001b[0m\u001b[0mlayer\u001b[0m\u001b[0;34m[\u001b[0m\u001b[0;34m:\u001b[0m\u001b[0mnum_layers\u001b[0m\u001b[0;34m]\u001b[0m\u001b[0;34m]\u001b[0m\u001b[0;34m)\u001b[0m\u001b[0;34m\u001b[0m\u001b[0;34m\u001b[0m\u001b[0m\n\u001b[1;32m    232\u001b[0m         \u001b[0;32melse\u001b[0m\u001b[0;34m:\u001b[0m\u001b[0;34m\u001b[0m\u001b[0;34m\u001b[0m\u001b[0m\n\u001b[0;32m--> 233\u001b[0;31m             \u001b[0;32mraise\u001b[0m \u001b[0mValueError\u001b[0m\u001b[0;34m(\u001b[0m\u001b[0;34m\"Not supported\"\u001b[0m\u001b[0;34m)\u001b[0m\u001b[0;34m\u001b[0m\u001b[0;34m\u001b[0m\u001b[0m\n\u001b[0m\u001b[1;32m    234\u001b[0m     \u001b[0;32melse\u001b[0m\u001b[0;34m:\u001b[0m\u001b[0;34m\u001b[0m\u001b[0;34m\u001b[0m\u001b[0m\n\u001b[1;32m    235\u001b[0m         \u001b[0;32mif\u001b[0m \u001b[0mhasattr\u001b[0m\u001b[0;34m(\u001b[0m\u001b[0mmodel\u001b[0m\u001b[0;34m,\u001b[0m \u001b[0;34m\"output_hidden_states\"\u001b[0m\u001b[0;34m)\u001b[0m\u001b[0;34m:\u001b[0m\u001b[0;34m\u001b[0m\u001b[0;34m\u001b[0m\u001b[0m\n",
      "\u001b[0;31mValueError\u001b[0m: Not supported"
     ]
    }
   ],
   "source": [
    "scorer = BERTScorer(model_type='facebook/bart-large', rescale_with_baseline=False)"
   ]
  },
  {
   "cell_type": "code",
   "execution_count": 24,
   "metadata": {},
   "outputs": [],
   "source": [
    "from bert_score import BERTScorer\n",
    "scorer = BERTScorer(lang=\"en\", rescale_with_baseline=True)"
   ]
  },
  {
   "cell_type": "code",
   "execution_count": 65,
   "metadata": {
    "scrolled": true
   },
   "outputs": [
    {
     "name": "stdout",
     "output_type": "stream",
     "text": [
      "calculating scores...\n",
      "computing bert embedding.\n"
     ]
    },
    {
     "data": {
      "application/vnd.jupyter.widget-view+json": {
       "model_id": "1caabc42d77e4b6286a1e076c61b24c4",
       "version_major": 2,
       "version_minor": 0
      },
      "text/plain": [
       "HBox(children=(FloatProgress(value=0.0, max=227.0), HTML(value='')))"
      ]
     },
     "metadata": {},
     "output_type": "display_data"
    },
    {
     "name": "stdout",
     "output_type": "stream",
     "text": [
      "\n",
      "computing greedy matching.\n"
     ]
    },
    {
     "data": {
      "application/vnd.jupyter.widget-view+json": {
       "model_id": "85242954ae234e17818cc20b83b7fd2f",
       "version_major": 2,
       "version_minor": 0
      },
      "text/plain": [
       "HBox(children=(FloatProgress(value=0.0, max=116.0), HTML(value='')))"
      ]
     },
     "metadata": {},
     "output_type": "display_data"
    },
    {
     "name": "stdout",
     "output_type": "stream",
     "text": [
      "\n",
      "done in 89.95 seconds, 81.89 sentences/sec\n"
     ]
    }
   ],
   "source": [
    "P, R, F1 = scorer.score(hypothesis, conv, verbose = True)"
   ]
  },
  {
   "cell_type": "code",
   "execution_count": 55,
   "metadata": {},
   "outputs": [
    {
     "data": {
      "text/plain": [
       "tensor([0.1509, 0.2634, 0.2472, 0.4449, 0.2428, 0.2224, 0.2097, 0.3430, 0.2890,\n",
       "        0.3001])"
      ]
     },
     "execution_count": 55,
     "metadata": {},
     "output_type": "execute_result"
    }
   ],
   "source": [
    "F1"
   ]
  },
  {
   "cell_type": "code",
   "execution_count": 56,
   "metadata": {},
   "outputs": [
    {
     "name": "stdout",
     "output_type": "stream",
     "text": [
      "calculating scores...\n",
      "computing bert embedding.\n"
     ]
    },
    {
     "data": {
      "application/vnd.jupyter.widget-view+json": {
       "model_id": "b13f00969c25402a916c12a7da641b57",
       "version_major": 2,
       "version_minor": 0
      },
      "text/plain": [
       "HBox(children=(FloatProgress(value=0.0, max=1.0), HTML(value='')))"
      ]
     },
     "metadata": {},
     "output_type": "display_data"
    },
    {
     "name": "stdout",
     "output_type": "stream",
     "text": [
      "\n",
      "computing greedy matching.\n"
     ]
    },
    {
     "data": {
      "application/vnd.jupyter.widget-view+json": {
       "model_id": "033c34b4016a421baacb762cbfc7a97e",
       "version_major": 2,
       "version_minor": 0
      },
      "text/plain": [
       "HBox(children=(FloatProgress(value=0.0, max=1.0), HTML(value='')))"
      ]
     },
     "metadata": {},
     "output_type": "display_data"
    },
    {
     "name": "stdout",
     "output_type": "stream",
     "text": [
      "\n",
      "done in 0.32 seconds, 31.35 sentences/sec\n"
     ]
    }
   ],
   "source": [
    "P, R, F1 = scorer.score(sum_[:10], conv[:10], verbose = True)"
   ]
  },
  {
   "cell_type": "code",
   "execution_count": 57,
   "metadata": {},
   "outputs": [
    {
     "data": {
      "text/plain": [
       "tensor([0.0964, 0.2259, 0.2283, 0.3272, 0.2621, 0.2714, 0.2569, 0.2281, 0.2024,\n",
       "        0.2447])"
      ]
     },
     "execution_count": 57,
     "metadata": {},
     "output_type": "execute_result"
    }
   ],
   "source": [
    "F1"
   ]
  },
  {
   "cell_type": "code",
   "execution_count": 160,
   "metadata": {},
   "outputs": [
    {
     "data": {
      "text/plain": [
       "tensor(115)"
      ]
     },
     "execution_count": 160,
     "metadata": {},
     "output_type": "execute_result"
    }
   ],
   "source": [
    "(F1>0.25).sum()"
   ]
  },
  {
   "cell_type": "code",
   "execution_count": 166,
   "metadata": {},
   "outputs": [
    {
     "data": {
      "text/plain": [
       "tensor([0.1578, 0.2634, 0.2098, 0.3976, 0.2788, 0.3021, 0.2564, 0.3862, 0.2840,\n",
       "        0.3001])"
      ]
     },
     "execution_count": 166,
     "metadata": {},
     "output_type": "execute_result"
    }
   ],
   "source": [
    "F1"
   ]
  },
  {
   "cell_type": "code",
   "execution_count": 1,
   "metadata": {},
   "outputs": [
    {
     "ename": "NameError",
     "evalue": "name 'conv' is not defined",
     "output_type": "error",
     "traceback": [
      "\u001b[0;31m---------------------------------------------------------------------------\u001b[0m",
      "\u001b[0;31mNameError\u001b[0m                                 Traceback (most recent call last)",
      "\u001b[0;32m<ipython-input-1-dd93aa73c9b8>\u001b[0m in \u001b[0;36m<module>\u001b[0;34m\u001b[0m\n\u001b[0;32m----> 1\u001b[0;31m \u001b[0mconv\u001b[0m\u001b[0;34m[\u001b[0m\u001b[0;36m0\u001b[0m\u001b[0;34m]\u001b[0m\u001b[0;34m\u001b[0m\u001b[0;34m\u001b[0m\u001b[0m\n\u001b[0m",
      "\u001b[0;31mNameError\u001b[0m: name 'conv' is not defined"
     ]
    }
   ],
   "source": [
    "conv[0]"
   ]
  },
  {
   "cell_type": "code",
   "execution_count": 63,
   "metadata": {},
   "outputs": [
    {
     "data": {
      "text/plain": [
       "\"Laura is happy to celebrate Tom's birthday.\""
      ]
     },
     "execution_count": 63,
     "metadata": {},
     "output_type": "execute_result"
    }
   ],
   "source": [
    "hypothesis[0]"
   ]
  },
  {
   "cell_type": "code",
   "execution_count": 59,
   "metadata": {},
   "outputs": [
    {
     "data": {
      "text/plain": [
       "'Tom wishes Laura happy brithday.'"
      ]
     },
     "execution_count": 59,
     "metadata": {},
     "output_type": "execute_result"
    }
   ],
   "source": [
    "sum_[0]"
   ]
  },
  {
   "cell_type": "code",
   "execution_count": 1,
   "metadata": {},
   "outputs": [],
   "source": [
    "import torch"
   ]
  },
  {
   "cell_type": "code",
   "execution_count": 2,
   "metadata": {},
   "outputs": [
    {
     "data": {
      "text/plain": [
       "tensor([17, 23, 88,  2, 27])"
      ]
     },
     "execution_count": 2,
     "metadata": {},
     "output_type": "execute_result"
    }
   ],
   "source": [
    "torch.randint(100, (5,))"
   ]
  },
  {
   "cell_type": "code",
   "execution_count": 66,
   "metadata": {},
   "outputs": [
    {
     "name": "stdout",
     "output_type": "stream",
     "text": [
      "Test {'rouge-1': {'r': 0.35817469731908713, 'p': 0.5290368424723292, 'f': 0.4087970377467941}, 'rouge-2': {'r': 0.15223835694225454, 'p': 0.23691853281686978, 'f': 0.17467553515362588}, 'rouge-l': {'r': 0.3308311433948788, 'p': 0.4892945098762363, 'f': 0.37770280635396103}}\n"
     ]
    }
   ],
   "source": [
    "rouge = Rouge()\n",
    "print('Test', rouge.get_scores(hypothesis, sum_, avg = True))"
   ]
  },
  {
   "cell_type": "code",
   "execution_count": 76,
   "metadata": {},
   "outputs": [],
   "source": [
    "filtered_hypothesis = []\n",
    "filtered_sum_ = []\n",
    "\n",
    "for i in range(0, len(hypothesis)):\n",
    "    if F1[i] > 0.25:\n",
    "        filtered_hypothesis.append(hypothesis[i])\n",
    "        filtered_sum_.append(sum_[i])"
   ]
  },
  {
   "cell_type": "code",
   "execution_count": 77,
   "metadata": {},
   "outputs": [
    {
     "name": "stdout",
     "output_type": "stream",
     "text": [
      "Test {'rouge-1': {'r': 0.39298750609362804, 'p': 0.5610302466134014, 'f': 0.44323546686506554}, 'rouge-2': {'r': 0.18358221626215784, 'p': 0.2758588343298608, 'f': 0.20823972231786933}, 'rouge-l': {'r': 0.3647886182083038, 'p': 0.5213386942872876, 'f': 0.41147240046293804}}\n"
     ]
    }
   ],
   "source": [
    "rouge = Rouge()\n",
    "print('Test', rouge.get_scores(filtered_hypothesis, filtered_sum_, avg = True))"
   ]
  },
  {
   "cell_type": "code",
   "execution_count": 78,
   "metadata": {},
   "outputs": [
    {
     "data": {
      "text/plain": [
       "4024"
      ]
     },
     "execution_count": 78,
     "metadata": {},
     "output_type": "execute_result"
    }
   ],
   "source": [
    "len(filtered_hypothesis)"
   ]
  },
  {
   "cell_type": "code",
   "execution_count": 75,
   "metadata": {},
   "outputs": [
    {
     "data": {
      "text/plain": [
       "3641"
      ]
     },
     "execution_count": 75,
     "metadata": {},
     "output_type": "execute_result"
    }
   ],
   "source": [
    "len(filtered_hypothesis)"
   ]
  },
  {
   "cell_type": "code",
   "execution_count": 62,
   "metadata": {
    "scrolled": true
   },
   "outputs": [
    {
     "data": {
      "application/vnd.jupyter.widget-view+json": {
       "model_id": "11b9926b2aab4fb78abba507fd528f26",
       "version_major": 2,
       "version_minor": 0
      },
      "text/plain": [
       "HBox(children=(FloatProgress(value=0.0, description='Downloading', max=898823.0, style=ProgressStyle(descripti…"
      ]
     },
     "metadata": {},
     "output_type": "display_data"
    },
    {
     "name": "stdout",
     "output_type": "stream",
     "text": [
      "\n"
     ]
    },
    {
     "data": {
      "application/vnd.jupyter.widget-view+json": {
       "model_id": "d46f78683cb64ac7bd454631e70637e9",
       "version_major": 2,
       "version_minor": 0
      },
      "text/plain": [
       "HBox(children=(FloatProgress(value=0.0, description='Downloading', max=456318.0, style=ProgressStyle(descripti…"
      ]
     },
     "metadata": {},
     "output_type": "display_data"
    },
    {
     "name": "stdout",
     "output_type": "stream",
     "text": [
      "\n"
     ]
    },
    {
     "data": {
      "application/vnd.jupyter.widget-view+json": {
       "model_id": "b810cb0160044f0093a2aba31dae5fe2",
       "version_major": 2,
       "version_minor": 0
      },
      "text/plain": [
       "HBox(children=(FloatProgress(value=0.0, description='Downloading', max=1355863.0, style=ProgressStyle(descript…"
      ]
     },
     "metadata": {},
     "output_type": "display_data"
    },
    {
     "name": "stdout",
     "output_type": "stream",
     "text": [
      "\n"
     ]
    }
   ],
   "source": [
    "from transformers import BartTokenizer, BartForConditionalGeneration\n",
    "tokenizer = BartTokenizer.from_pretrained('facebook/bart-base')"
   ]
  },
  {
   "cell_type": "code",
   "execution_count": 77,
   "metadata": {},
   "outputs": [
    {
     "data": {
      "text/plain": [
       "[0, 38, 657, 47, 132, 2]"
      ]
     },
     "execution_count": 77,
     "metadata": {},
     "output_type": "execute_result"
    }
   ],
   "source": [
    "tokenizer.encode(' I love you 2')"
   ]
  },
  {
   "cell_type": "code",
   "execution_count": 79,
   "metadata": {},
   "outputs": [
    {
     "data": {
      "text/plain": [
       "' 2'"
      ]
     },
     "execution_count": 79,
     "metadata": {},
     "output_type": "execute_result"
    }
   ],
   "source": [
    "tokenizer.decode([132])"
   ]
  },
  {
   "cell_type": "code",
   "execution_count": 8,
   "metadata": {},
   "outputs": [],
   "source": [
    "a = 'i love you'"
   ]
  },
  {
   "cell_type": "code",
   "execution_count": 12,
   "metadata": {},
   "outputs": [
    {
     "data": {
      "text/plain": [
       "'i love you'"
      ]
     },
     "execution_count": 12,
     "metadata": {},
     "output_type": "execute_result"
    }
   ],
   "source": [
    "str(a.encode('utf-8'))[2:-1]"
   ]
  },
  {
   "cell_type": "code",
   "execution_count": 13,
   "metadata": {},
   "outputs": [
    {
     "data": {
      "text/plain": [
       "'i love you'"
      ]
     },
     "execution_count": 13,
     "metadata": {},
     "output_type": "execute_result"
    }
   ],
   "source": [
    "a"
   ]
  },
  {
   "cell_type": "code",
   "execution_count": 19,
   "metadata": {},
   "outputs": [
    {
     "ename": "ImportError",
     "evalue": "IProgress not found. Please update jupyter and ipywidgets. See https://ipywidgets.readthedocs.io/en/stable/user_install.html",
     "output_type": "error",
     "traceback": [
      "\u001b[0;31m---------------------------------------------------------------------------\u001b[0m",
      "\u001b[0;31mImportError\u001b[0m                               Traceback (most recent call last)",
      "\u001b[0;32m<ipython-input-19-4f26b916f36c>\u001b[0m in \u001b[0;36m<module>\u001b[0;34m\u001b[0m\n\u001b[1;32m      1\u001b[0m \u001b[0;32mfrom\u001b[0m \u001b[0mtransformers\u001b[0m \u001b[0;32mimport\u001b[0m \u001b[0mBartForConditionalGeneration\u001b[0m\u001b[0;34m,\u001b[0m \u001b[0mBartTokenizer\u001b[0m\u001b[0;34m\u001b[0m\u001b[0;34m\u001b[0m\u001b[0m\n\u001b[0;32m----> 2\u001b[0;31m \u001b[0mmodel\u001b[0m \u001b[0;34m=\u001b[0m \u001b[0mBartForConditionalGeneration\u001b[0m\u001b[0;34m.\u001b[0m\u001b[0mfrom_pretrained\u001b[0m\u001b[0;34m(\u001b[0m\u001b[0;34m\"facebook/bart-large\"\u001b[0m\u001b[0;34m,\u001b[0m \u001b[0mforce_bos_token_to_be_generated\u001b[0m\u001b[0;34m=\u001b[0m\u001b[0;32mTrue\u001b[0m\u001b[0;34m)\u001b[0m\u001b[0;34m\u001b[0m\u001b[0;34m\u001b[0m\u001b[0m\n\u001b[0m",
      "\u001b[0;32m/home/jchen896/semi_conv/transformers/src/transformers/modeling_utils.py\u001b[0m in \u001b[0;36mfrom_pretrained\u001b[0;34m(cls, pretrained_model_name_or_path, *model_args, **kwargs)\u001b[0m\n\u001b[1;32m    984\u001b[0m                 \u001b[0muse_auth_token\u001b[0m\u001b[0;34m=\u001b[0m\u001b[0muse_auth_token\u001b[0m\u001b[0;34m,\u001b[0m\u001b[0;34m\u001b[0m\u001b[0;34m\u001b[0m\u001b[0m\n\u001b[1;32m    985\u001b[0m                 \u001b[0mrevision\u001b[0m\u001b[0;34m=\u001b[0m\u001b[0mrevision\u001b[0m\u001b[0;34m,\u001b[0m\u001b[0;34m\u001b[0m\u001b[0;34m\u001b[0m\u001b[0m\n\u001b[0;32m--> 986\u001b[0;31m                 \u001b[0;34m**\u001b[0m\u001b[0mkwargs\u001b[0m\u001b[0;34m,\u001b[0m\u001b[0;34m\u001b[0m\u001b[0;34m\u001b[0m\u001b[0m\n\u001b[0m\u001b[1;32m    987\u001b[0m             )\n\u001b[1;32m    988\u001b[0m         \u001b[0;32melse\u001b[0m\u001b[0;34m:\u001b[0m\u001b[0;34m\u001b[0m\u001b[0;34m\u001b[0m\u001b[0m\n",
      "\u001b[0;32m/home/jchen896/semi_conv/transformers/src/transformers/configuration_utils.py\u001b[0m in \u001b[0;36mfrom_pretrained\u001b[0;34m(cls, pretrained_model_name_or_path, **kwargs)\u001b[0m\n\u001b[1;32m    388\u001b[0m \u001b[0;34m\u001b[0m\u001b[0m\n\u001b[1;32m    389\u001b[0m         \"\"\"\n\u001b[0;32m--> 390\u001b[0;31m         \u001b[0mconfig_dict\u001b[0m\u001b[0;34m,\u001b[0m \u001b[0mkwargs\u001b[0m \u001b[0;34m=\u001b[0m \u001b[0mcls\u001b[0m\u001b[0;34m.\u001b[0m\u001b[0mget_config_dict\u001b[0m\u001b[0;34m(\u001b[0m\u001b[0mpretrained_model_name_or_path\u001b[0m\u001b[0;34m,\u001b[0m \u001b[0;34m**\u001b[0m\u001b[0mkwargs\u001b[0m\u001b[0;34m)\u001b[0m\u001b[0;34m\u001b[0m\u001b[0;34m\u001b[0m\u001b[0m\n\u001b[0m\u001b[1;32m    391\u001b[0m         \u001b[0;32mif\u001b[0m \u001b[0mconfig_dict\u001b[0m\u001b[0;34m.\u001b[0m\u001b[0mget\u001b[0m\u001b[0;34m(\u001b[0m\u001b[0;34m\"model_type\"\u001b[0m\u001b[0;34m,\u001b[0m \u001b[0;32mFalse\u001b[0m\u001b[0;34m)\u001b[0m \u001b[0;32mand\u001b[0m \u001b[0mhasattr\u001b[0m\u001b[0;34m(\u001b[0m\u001b[0mcls\u001b[0m\u001b[0;34m,\u001b[0m \u001b[0;34m\"model_type\"\u001b[0m\u001b[0;34m)\u001b[0m\u001b[0;34m:\u001b[0m\u001b[0;34m\u001b[0m\u001b[0;34m\u001b[0m\u001b[0m\n\u001b[1;32m    392\u001b[0m             assert (\n",
      "\u001b[0;32m/home/jchen896/semi_conv/transformers/src/transformers/configuration_utils.py\u001b[0m in \u001b[0;36mget_config_dict\u001b[0;34m(cls, pretrained_model_name_or_path, **kwargs)\u001b[0m\n\u001b[1;32m    445\u001b[0m                 \u001b[0mresume_download\u001b[0m\u001b[0;34m=\u001b[0m\u001b[0mresume_download\u001b[0m\u001b[0;34m,\u001b[0m\u001b[0;34m\u001b[0m\u001b[0;34m\u001b[0m\u001b[0m\n\u001b[1;32m    446\u001b[0m                 \u001b[0mlocal_files_only\u001b[0m\u001b[0;34m=\u001b[0m\u001b[0mlocal_files_only\u001b[0m\u001b[0;34m,\u001b[0m\u001b[0;34m\u001b[0m\u001b[0;34m\u001b[0m\u001b[0m\n\u001b[0;32m--> 447\u001b[0;31m                 \u001b[0muse_auth_token\u001b[0m\u001b[0;34m=\u001b[0m\u001b[0muse_auth_token\u001b[0m\u001b[0;34m,\u001b[0m\u001b[0;34m\u001b[0m\u001b[0;34m\u001b[0m\u001b[0m\n\u001b[0m\u001b[1;32m    448\u001b[0m             )\n\u001b[1;32m    449\u001b[0m             \u001b[0;31m# Load config dict\u001b[0m\u001b[0;34m\u001b[0m\u001b[0;34m\u001b[0m\u001b[0;34m\u001b[0m\u001b[0m\n",
      "\u001b[0;32m/home/jchen896/semi_conv/transformers/src/transformers/file_utils.py\u001b[0m in \u001b[0;36mcached_path\u001b[0;34m(url_or_filename, cache_dir, force_download, proxies, resume_download, user_agent, extract_compressed_file, force_extract, use_auth_token, local_files_only)\u001b[0m\n\u001b[1;32m   1135\u001b[0m             \u001b[0muser_agent\u001b[0m\u001b[0;34m=\u001b[0m\u001b[0muser_agent\u001b[0m\u001b[0;34m,\u001b[0m\u001b[0;34m\u001b[0m\u001b[0;34m\u001b[0m\u001b[0m\n\u001b[1;32m   1136\u001b[0m             \u001b[0muse_auth_token\u001b[0m\u001b[0;34m=\u001b[0m\u001b[0muse_auth_token\u001b[0m\u001b[0;34m,\u001b[0m\u001b[0;34m\u001b[0m\u001b[0;34m\u001b[0m\u001b[0m\n\u001b[0;32m-> 1137\u001b[0;31m             \u001b[0mlocal_files_only\u001b[0m\u001b[0;34m=\u001b[0m\u001b[0mlocal_files_only\u001b[0m\u001b[0;34m,\u001b[0m\u001b[0;34m\u001b[0m\u001b[0;34m\u001b[0m\u001b[0m\n\u001b[0m\u001b[1;32m   1138\u001b[0m         )\n\u001b[1;32m   1139\u001b[0m     \u001b[0;32melif\u001b[0m \u001b[0mos\u001b[0m\u001b[0;34m.\u001b[0m\u001b[0mpath\u001b[0m\u001b[0;34m.\u001b[0m\u001b[0mexists\u001b[0m\u001b[0;34m(\u001b[0m\u001b[0murl_or_filename\u001b[0m\u001b[0;34m)\u001b[0m\u001b[0;34m:\u001b[0m\u001b[0;34m\u001b[0m\u001b[0;34m\u001b[0m\u001b[0m\n",
      "\u001b[0;32m/home/jchen896/semi_conv/transformers/src/transformers/file_utils.py\u001b[0m in \u001b[0;36mget_from_cache\u001b[0;34m(url, cache_dir, force_download, proxies, etag_timeout, resume_download, user_agent, use_auth_token, local_files_only)\u001b[0m\n\u001b[1;32m   1385\u001b[0m             \u001b[0mlogger\u001b[0m\u001b[0;34m.\u001b[0m\u001b[0minfo\u001b[0m\u001b[0;34m(\u001b[0m\u001b[0;34m\"%s not found in cache or force_download set to True, downloading to %s\"\u001b[0m\u001b[0;34m,\u001b[0m \u001b[0murl\u001b[0m\u001b[0;34m,\u001b[0m \u001b[0mtemp_file\u001b[0m\u001b[0;34m.\u001b[0m\u001b[0mname\u001b[0m\u001b[0;34m)\u001b[0m\u001b[0;34m\u001b[0m\u001b[0;34m\u001b[0m\u001b[0m\n\u001b[1;32m   1386\u001b[0m \u001b[0;34m\u001b[0m\u001b[0m\n\u001b[0;32m-> 1387\u001b[0;31m             \u001b[0mhttp_get\u001b[0m\u001b[0;34m(\u001b[0m\u001b[0murl_to_download\u001b[0m\u001b[0;34m,\u001b[0m \u001b[0mtemp_file\u001b[0m\u001b[0;34m,\u001b[0m \u001b[0mproxies\u001b[0m\u001b[0;34m=\u001b[0m\u001b[0mproxies\u001b[0m\u001b[0;34m,\u001b[0m \u001b[0mresume_size\u001b[0m\u001b[0;34m=\u001b[0m\u001b[0mresume_size\u001b[0m\u001b[0;34m,\u001b[0m \u001b[0mheaders\u001b[0m\u001b[0;34m=\u001b[0m\u001b[0mheaders\u001b[0m\u001b[0;34m)\u001b[0m\u001b[0;34m\u001b[0m\u001b[0;34m\u001b[0m\u001b[0m\n\u001b[0m\u001b[1;32m   1388\u001b[0m \u001b[0;34m\u001b[0m\u001b[0m\n\u001b[1;32m   1389\u001b[0m         \u001b[0mlogger\u001b[0m\u001b[0;34m.\u001b[0m\u001b[0minfo\u001b[0m\u001b[0;34m(\u001b[0m\u001b[0;34m\"storing %s in cache at %s\"\u001b[0m\u001b[0;34m,\u001b[0m \u001b[0murl\u001b[0m\u001b[0;34m,\u001b[0m \u001b[0mcache_path\u001b[0m\u001b[0;34m)\u001b[0m\u001b[0;34m\u001b[0m\u001b[0;34m\u001b[0m\u001b[0m\n",
      "\u001b[0;32m/home/jchen896/semi_conv/transformers/src/transformers/file_utils.py\u001b[0m in \u001b[0;36mhttp_get\u001b[0;34m(url, temp_file, proxies, resume_size, headers)\u001b[0m\n\u001b[1;32m   1242\u001b[0m         \u001b[0minitial\u001b[0m\u001b[0;34m=\u001b[0m\u001b[0mresume_size\u001b[0m\u001b[0;34m,\u001b[0m\u001b[0;34m\u001b[0m\u001b[0;34m\u001b[0m\u001b[0m\n\u001b[1;32m   1243\u001b[0m         \u001b[0mdesc\u001b[0m\u001b[0;34m=\u001b[0m\u001b[0;34m\"Downloading\"\u001b[0m\u001b[0;34m,\u001b[0m\u001b[0;34m\u001b[0m\u001b[0;34m\u001b[0m\u001b[0m\n\u001b[0;32m-> 1244\u001b[0;31m         \u001b[0mdisable\u001b[0m\u001b[0;34m=\u001b[0m\u001b[0mbool\u001b[0m\u001b[0;34m(\u001b[0m\u001b[0mlogging\u001b[0m\u001b[0;34m.\u001b[0m\u001b[0mget_verbosity\u001b[0m\u001b[0;34m(\u001b[0m\u001b[0;34m)\u001b[0m \u001b[0;34m==\u001b[0m \u001b[0mlogging\u001b[0m\u001b[0;34m.\u001b[0m\u001b[0mNOTSET\u001b[0m\u001b[0;34m)\u001b[0m\u001b[0;34m,\u001b[0m\u001b[0;34m\u001b[0m\u001b[0;34m\u001b[0m\u001b[0m\n\u001b[0m\u001b[1;32m   1245\u001b[0m     )\n\u001b[1;32m   1246\u001b[0m     \u001b[0;32mfor\u001b[0m \u001b[0mchunk\u001b[0m \u001b[0;32min\u001b[0m \u001b[0mr\u001b[0m\u001b[0;34m.\u001b[0m\u001b[0miter_content\u001b[0m\u001b[0;34m(\u001b[0m\u001b[0mchunk_size\u001b[0m\u001b[0;34m=\u001b[0m\u001b[0;36m1024\u001b[0m\u001b[0;34m)\u001b[0m\u001b[0;34m:\u001b[0m\u001b[0;34m\u001b[0m\u001b[0;34m\u001b[0m\u001b[0m\n",
      "\u001b[0;32m~/anaconda3/envs/py37_semi_conv/lib/python3.7/site-packages/tqdm/notebook.py\u001b[0m in \u001b[0;36m__init__\u001b[0;34m(self, *args, **kwargs)\u001b[0m\n\u001b[1;32m    217\u001b[0m         \u001b[0mtotal\u001b[0m \u001b[0;34m=\u001b[0m \u001b[0mself\u001b[0m\u001b[0;34m.\u001b[0m\u001b[0mtotal\u001b[0m \u001b[0;34m*\u001b[0m \u001b[0munit_scale\u001b[0m \u001b[0;32mif\u001b[0m \u001b[0mself\u001b[0m\u001b[0;34m.\u001b[0m\u001b[0mtotal\u001b[0m \u001b[0;32melse\u001b[0m \u001b[0mself\u001b[0m\u001b[0;34m.\u001b[0m\u001b[0mtotal\u001b[0m\u001b[0;34m\u001b[0m\u001b[0;34m\u001b[0m\u001b[0m\n\u001b[1;32m    218\u001b[0m         self.container = self.status_printer(\n\u001b[0;32m--> 219\u001b[0;31m             self.fp, total, self.desc, self.ncols)\n\u001b[0m\u001b[1;32m    220\u001b[0m         \u001b[0mself\u001b[0m\u001b[0;34m.\u001b[0m\u001b[0msp\u001b[0m \u001b[0;34m=\u001b[0m \u001b[0mself\u001b[0m\u001b[0;34m.\u001b[0m\u001b[0mdisplay\u001b[0m\u001b[0;34m\u001b[0m\u001b[0;34m\u001b[0m\u001b[0m\n\u001b[1;32m    221\u001b[0m \u001b[0;34m\u001b[0m\u001b[0m\n",
      "\u001b[0;32m~/anaconda3/envs/py37_semi_conv/lib/python3.7/site-packages/tqdm/notebook.py\u001b[0m in \u001b[0;36mstatus_printer\u001b[0;34m(_, total, desc, ncols)\u001b[0m\n\u001b[1;32m     95\u001b[0m         \u001b[0;32mif\u001b[0m \u001b[0mIProgress\u001b[0m \u001b[0;32mis\u001b[0m \u001b[0;32mNone\u001b[0m\u001b[0;34m:\u001b[0m  \u001b[0;31m# #187 #451 #558 #872\u001b[0m\u001b[0;34m\u001b[0m\u001b[0;34m\u001b[0m\u001b[0m\n\u001b[1;32m     96\u001b[0m             raise ImportError(\n\u001b[0;32m---> 97\u001b[0;31m                 \u001b[0;34m\"IProgress not found. Please update jupyter and ipywidgets.\"\u001b[0m\u001b[0;34m\u001b[0m\u001b[0;34m\u001b[0m\u001b[0m\n\u001b[0m\u001b[1;32m     98\u001b[0m                 \u001b[0;34m\" See https://ipywidgets.readthedocs.io/en/stable\"\u001b[0m\u001b[0;34m\u001b[0m\u001b[0;34m\u001b[0m\u001b[0m\n\u001b[1;32m     99\u001b[0m                 \"/user_install.html\")\n",
      "\u001b[0;31mImportError\u001b[0m: IProgress not found. Please update jupyter and ipywidgets. See https://ipywidgets.readthedocs.io/en/stable/user_install.html"
     ]
    }
   ],
   "source": []
  },
  {
   "cell_type": "code",
   "execution_count": null,
   "metadata": {},
   "outputs": [],
   "source": []
  }
 ],
 "metadata": {
  "kernelspec": {
   "display_name": "Python [conda env:py37_semi_conv]",
   "language": "python",
   "name": "conda-env-py37_semi_conv-py"
  },
  "language_info": {
   "codemirror_mode": {
    "name": "ipython",
    "version": 3
   },
   "file_extension": ".py",
   "mimetype": "text/x-python",
   "name": "python",
   "nbconvert_exporter": "python",
   "pygments_lexer": "ipython3",
   "version": "3.7.10"
  }
 },
 "nbformat": 4,
 "nbformat_minor": 4
}
